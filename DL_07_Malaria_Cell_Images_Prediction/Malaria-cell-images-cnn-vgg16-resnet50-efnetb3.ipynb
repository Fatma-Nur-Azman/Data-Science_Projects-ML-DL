{
 "cells": [
  {
   "cell_type": "markdown",
   "metadata": {},
   "source": [
    "# <div style=\"padding:15px;color:white;margin:0;font-size:100%;font-family:Verdana;text-align:center;display:fill;border-radius:15px;background-color: #FF0000 ;letter-spacing:1px;overflow:hidden\"><b> MALARIA CELL IMAGES CNN</b></div>\n",
    "\n",
    "<div style=\"text-align: center;\">\n",
    "  <b>If you want to be the first to be informed about new projects, please do not forget to follow us - by Fatma Nur AZMAN</b><br>\n",
    "  <a href=\"https://fatmanurazman.vercel.app/\" style=\"color:#FF0000;\">Fatmanurazman.com</a> | \n",
    "  <a href=\"https://www.linkedin.com/in/fatma-nur-azman/\" style=\"color:#FF0000;\">Linkedin</a> | \n",
    "  <a href=\"https://github.com/Fatma-Nur-Azman\" style=\"color:#FF0000;\">Github</a> | \n",
    "  <a href=\"https://www.kaggle.com/fnurazman\" style=\"color:#FF0000;\">Kaggle</a> | \n",
    "  <a href=\"https://public.tableau.com/app/profile/fatma.nur.azman/vizzes\" style=\"color:#FF0000;\">Tableau</a>"
   ]
  },
  {
   "cell_type": "markdown",
   "metadata": {},
   "source": [
    "Malaria cell images dataset is a dataset used in medical image processing and artificial intelligence research. This dataset can be used for disease classification model training. This dataset contains cell images that show changes in red blood cells caused by malaria, a disease caused by protozoan parasites called plasmodium.\n",
    "\n",
    "The malaria cell images dataset is provided by the National Institutes of Health (NIH). The dataset contains 27,558 cell images. 13,779 of these images contain malaria parasites, while the others are parasite-free. The dataset consists of two classes: With and without malaria.\n",
    "\n",
    "This dataset can be used for classification, object detection and other machine learning tasks. The dataset can also be used for other medical image processing applications such as computed tomography (CT) and magnetic resonance imaging (MRI). This dataset offers many different use cases where AI algorithms can contribute to medical diagnosis and treatment processes."
   ]
  },
  {
   "cell_type": "markdown",
   "metadata": {},
   "source": [
    "Malaria cell images, taken using a microscope. These images are thin sections of red blood cells that show the effects of malaria, a disease caused by protozoan parasites called plasmodium.\n",
    "\n",
    "These images, taken using a microscope, are important for medical research and diagnosis. These images can help diagnose and treat disease. They also provide data for artificial intelligence algorithms to use in medical diagnosis and treatment processes.\n",
    "\n",
    "The malaria cell images dataset was created by digitizing these images. Digitization is the conversion of images into digital data format. This digital data is made usable by machine learning algorithms.Malaria hücre görüntüleri, mikroskop kullanılarak çekilmiştir. Bu görüntüler, plasmodium adı verilen protozoan parazitlerin neden olduğu malaria hastalığının etkilerini gösteren kırmızı kan hücrelerinin ince kesitleridir.\n",
    "\n",
    "Mikroskop kullanılarak çekilen bu görüntüler, tıbbi araştırmalar ve tanı için önemlidir. Bu görüntüler, hastalığın teşhis edilmesi ve tedavi edilmesinde yardımcı olabilir. Ayrıca, yapay zeka algoritmalarının tıbbi tanı ve tedavi süreçlerinde kullanılması için veri sağlamaktadır.\n",
    "\n",
    "Malaria hücre görüntüleri veri kümesi, bu görüntülerin dijitalleştirilmesiyle oluşturulmuştur. Dijitalleştirme, görüntülerin sayısal veri formatına dönüştürülmesidir. Bu sayısal veriler, makine öğrenimi algoritmaları tarafından kullanılabilir hale getirilir."
   ]
  },
  {
   "cell_type": "markdown",
   "metadata": {
    "id": "pAqK_4rJyGIo"
   },
   "source": [
    "\n",
    "## CNN With Custom Images: Malaria Cell Images Dataset\n",
    "\n",
    "The dataset contains 2 folders - Infected - Uninfected\n",
    "\n",
    "And a total of 27,558 images.\n",
    "\n",
    "\n",
    "This Dataset was taken from the official NIH Website: https://ceb.nlm.nih.gov/repositories/malaria-datasets/ "
   ]
  },
  {
   "cell_type": "markdown",
   "metadata": {},
   "source": [
    "## import library"
   ]
  },
  {
   "cell_type": "code",
   "execution_count": 2,
   "metadata": {
    "ExecuteTime": {
     "end_time": "2024-09-19T08:21:26.326382Z",
     "start_time": "2024-09-19T08:21:18.172907Z"
    },
    "execution": {
     "iopub.execute_input": "2024-09-17T20:21:57.147638Z",
     "iopub.status.busy": "2024-09-17T20:21:57.146885Z",
     "iopub.status.idle": "2024-09-17T20:22:12.682351Z",
     "shell.execute_reply": "2024-09-17T20:22:12.681543Z",
     "shell.execute_reply.started": "2024-09-17T20:21:57.147601Z"
    },
    "id": "HujjHaXQyGIr"
   },
   "outputs": [],
   "source": [
    "import os\n",
    "import pandas as pd\n",
    "import tensorflow as tf\n",
    "import numpy as np\n",
    "import seaborn as sns\n",
    "import matplotlib.pyplot as plt\n",
    "from matplotlib.image import imread\n",
    "\n",
    "from tensorflow.keras.preprocessing.image import ImageDataGenerator\n",
    "from sklearn.model_selection import train_test_split\n",
    "\n",
    "from tensorflow.keras.models import Sequential\n",
    "from tensorflow.keras.layers import  Activation, Dense, Conv2D, MaxPool2D,MaxPooling2D, Flatten, Dropout\n",
    "from tensorflow.keras.callbacks import EarlyStopping\n",
    "from keras.optimizers import Adam\n",
    "from tensorflow.keras.layers import BatchNormalization\n",
    "\n",
    "from sklearn.utils import class_weight\n",
    "from tensorflow.keras.preprocessing import image\n",
    "from sklearn.metrics import classification_report,confusion_matrix"
   ]
  },
  {
   "cell_type": "code",
   "execution_count": 3,
   "metadata": {
    "ExecuteTime": {
     "end_time": "2024-09-19T08:21:26.337426Z",
     "start_time": "2024-09-19T08:21:26.329467Z"
    },
    "execution": {
     "iopub.execute_input": "2024-09-17T20:22:15.017242Z",
     "iopub.status.busy": "2024-09-17T20:22:15.016647Z",
     "iopub.status.idle": "2024-09-17T20:22:15.022311Z",
     "shell.execute_reply": "2024-09-17T20:22:15.021470Z",
     "shell.execute_reply.started": "2024-09-17T20:22:15.017202Z"
    }
   },
   "outputs": [],
   "source": [
    "Parasitized = '/kaggle/input/cell-images-for-detecting-malaria/cell_images/cell_images/Parasitized/'\n",
    "Uninfected = '/kaggle/input/cell-images-for-detecting-malaria/cell_images/cell_images/Uninfected/'"
   ]
  },
  {
   "cell_type": "code",
   "execution_count": 4,
   "metadata": {
    "ExecuteTime": {
     "end_time": "2024-09-19T08:21:27.827101Z",
     "start_time": "2024-09-19T08:21:26.338455Z"
    },
    "execution": {
     "iopub.execute_input": "2024-09-17T20:22:16.903313Z",
     "iopub.status.busy": "2024-09-17T20:22:16.902540Z",
     "iopub.status.idle": "2024-09-17T20:22:17.490589Z",
     "shell.execute_reply": "2024-09-17T20:22:17.489623Z",
     "shell.execute_reply.started": "2024-09-17T20:22:16.903273Z"
    }
   },
   "outputs": [
    {
     "ename": "FileNotFoundError",
     "evalue": "[WinError 3] Sistem belirtilen yolu bulamıyor: '/kaggle/input/cell-images-for-detecting-malaria/cell_images/cell_images/Parasitized/'",
     "output_type": "error",
     "traceback": [
      "\u001b[1;31m---------------------------------------------------------------------------\u001b[0m",
      "\u001b[1;31mFileNotFoundError\u001b[0m                         Traceback (most recent call last)",
      "Cell \u001b[1;32mIn[4], line 1\u001b[0m\n\u001b[1;32m----> 1\u001b[0m \u001b[38;5;28mprint\u001b[39m(\u001b[38;5;124m'\u001b[39m\u001b[38;5;124mParasitized lenght:\u001b[39m\u001b[38;5;124m'\u001b[39m, \u001b[38;5;28mlen\u001b[39m(os\u001b[38;5;241m.\u001b[39mlistdir(Parasitized)))\n\u001b[0;32m      2\u001b[0m \u001b[38;5;28mprint\u001b[39m(\u001b[38;5;124m'\u001b[39m\u001b[38;5;124mUninfected lenght:\u001b[39m\u001b[38;5;124m'\u001b[39m, \u001b[38;5;28mlen\u001b[39m(os\u001b[38;5;241m.\u001b[39mlistdir(Uninfected)))\n",
      "\u001b[1;31mFileNotFoundError\u001b[0m: [WinError 3] Sistem belirtilen yolu bulamıyor: '/kaggle/input/cell-images-for-detecting-malaria/cell_images/cell_images/Parasitized/'"
     ]
    }
   ],
   "source": [
    "print('Parasitized lenght:', len(os.listdir(Parasitized)))\n",
    "print('Uninfected lenght:', len(os.listdir(Uninfected)))"
   ]
  },
  {
   "cell_type": "code",
   "execution_count": null,
   "metadata": {
    "ExecuteTime": {
     "end_time": "2024-09-19T08:21:27.833634Z",
     "start_time": "2024-09-19T08:21:27.833634Z"
    },
    "execution": {
     "iopub.execute_input": "2024-09-17T20:22:18.970424Z",
     "iopub.status.busy": "2024-09-17T20:22:18.969237Z",
     "iopub.status.idle": "2024-09-17T20:22:18.976843Z",
     "shell.execute_reply": "2024-09-17T20:22:18.975842Z",
     "shell.execute_reply.started": "2024-09-17T20:22:18.970383Z"
    }
   },
   "outputs": [],
   "source": [
    "img_classes  = os.listdir(\"/kaggle/input/cell-images-for-detecting-malaria/cell_images/cell_images\")\n",
    "print(img_classes)"
   ]
  },
  {
   "cell_type": "code",
   "execution_count": null,
   "metadata": {
    "ExecuteTime": {
     "end_time": "2024-09-19T08:21:27.834527Z",
     "start_time": "2024-09-19T08:21:27.834527Z"
    },
    "execution": {
     "iopub.execute_input": "2024-09-16T11:21:10.349287Z",
     "iopub.status.busy": "2024-09-16T11:21:10.348912Z",
     "iopub.status.idle": "2024-09-16T11:21:11.005243Z",
     "shell.execute_reply": "2024-09-16T11:21:11.004322Z",
     "shell.execute_reply.started": "2024-09-16T11:21:10.349250Z"
    }
   },
   "outputs": [],
   "source": [
    "def display_parasitized_uninfected_images(Parasitized, Uninfected, index=17):\n",
    "    # Get the 17th image from each folder\n",
    "    para_cell_Para = Parasitized + os.listdir(Parasitized)[index]\n",
    "    para_cell_Unin = Uninfected + os.listdir(Uninfected)[index]\n",
    "    \n",
    "    # Plot the images side by side\n",
    "    fig, axes = plt.subplots(1, 2, figsize=(10, 5))\n",
    "\n",
    "    axes[0].imshow(imread(para_cell_Para))\n",
    "    axes[0].set_title(f\"Parasitized {index}. index\")\n",
    "\n",
    "    axes[1].imshow(imread(para_cell_Unin))\n",
    "    axes[1].set_title(f\"Uninfected {index}. index\")\n",
    "\n",
    "    plt.show()\n",
    "\n",
    "    # Print the shape of the images\n",
    "    print('Parasitized shape:', imread(para_cell_Para).shape)\n",
    "    print('Uninfected shape:', imread(para_cell_Unin).shape)\n",
    "\n",
    "# Example usage:\n",
    "# display_parasitized_uninfected_images('path_to_parasitized_folder/', 'path_to_uninfected_folder/')\n",
    "display_parasitized_uninfected_images(Parasitized, Uninfected, index=17)"
   ]
  },
  {
   "cell_type": "code",
   "execution_count": null,
   "metadata": {
    "ExecuteTime": {
     "end_time": "2024-09-19T08:21:27.836187Z",
     "start_time": "2024-09-19T08:21:27.836187Z"
    },
    "execution": {
     "iopub.execute_input": "2024-09-16T11:21:14.288357Z",
     "iopub.status.busy": "2024-09-16T11:21:14.287983Z",
     "iopub.status.idle": "2024-09-16T11:25:03.393812Z",
     "shell.execute_reply": "2024-09-16T11:25:03.392913Z",
     "shell.execute_reply.started": "2024-09-16T11:21:14.288322Z"
    }
   },
   "outputs": [],
   "source": [
    "# This code block calculates the sizes of all images in the cell image subdirectory \n",
    "#and adds them to the x - y lists. This information can be used, for example, \n",
    "#to determine how large the image sizes are and what sizes of images to use for training the model.\n",
    "\n",
    "data_dir ='/kaggle/input/cell-images-for-detecting-malaria/cell_images'\n",
    "\n",
    "# Folder names\n",
    "categories = [\"Parasitized\", \"Uninfected\"]\n",
    "\n",
    "# Lists to hold data\n",
    "x = []\n",
    "y = []\n",
    "labels = []\n",
    "\n",
    "valid_extensions = ['.png', '.jpg', '.jpeg']\n",
    "\n",
    "# Loop for all classes\n",
    "for category in categories:\n",
    "    category_dir = os.path.join(data_dir, category)\n",
    "    for image in os.listdir(category_dir):\n",
    "        if any(image.endswith(ext) for ext in valid_extensions):\n",
    "            img = imread(os.path.join(category_dir, image))\n",
    "            d1, d2, _ = img.shape\n",
    "            x.append(d1)\n",
    "            y.append(d2)\n",
    "            labels.append(category)\n",
    "\n",
    "plt.figure(figsize=(10, 6))\n",
    "\n",
    "plt.scatter([x[i] for i in range(len(labels)) if labels[i] == \"Parasitized\"],\n",
    "            [y[i] for i in range(len(labels)) if labels[i] == \"Parasitized\"],\n",
    "            color='r', label='Parasitized', alpha=0.5)\n",
    "\n",
    "plt.scatter([x[i] for i in range(len(labels)) if labels[i] == \"Uninfected\"],\n",
    "            [y[i] for i in range(len(labels)) if labels[i] == \"Uninfected\"],\n",
    "            color='b', label='Uninfected', alpha=0.5)\n",
    "\n",
    "plt.title(\"Size Distribution of Parasitized and Uninfected Images\")\n",
    "plt.xlabel(\"Width\")\n",
    "plt.ylabel(\"Height\")\n",
    "plt.legend()\n",
    "plt.show()\n"
   ]
  },
  {
   "cell_type": "code",
   "execution_count": null,
   "metadata": {
    "ExecuteTime": {
     "end_time": "2024-09-19T08:21:27.838167Z",
     "start_time": "2024-09-19T08:21:27.838167Z"
    },
    "execution": {
     "iopub.execute_input": "2024-09-16T11:25:16.077193Z",
     "iopub.status.busy": "2024-09-16T11:25:16.076418Z",
     "iopub.status.idle": "2024-09-16T11:25:16.087119Z",
     "shell.execute_reply": "2024-09-16T11:25:16.086158Z",
     "shell.execute_reply.started": "2024-09-16T11:25:16.077152Z"
    },
    "id": "xkA-LSmJyGI5",
    "outputId": "45d0437a-4b69-498f-8c7a-f71694866426"
   },
   "outputs": [],
   "source": [
    "print ('Parasitized', np.mean(x))\n",
    "print ('Parasitized', np.mean(y))"
   ]
  },
  {
   "cell_type": "markdown",
   "metadata": {},
   "source": [
    "When we look at both the chart and the averages, we determine a common shape as **130x130**. We can also choose higher, but the transaction volume will increase. Depending on time and equipment, we can take a best practice approach \n",
    "\n",
    "In images larger than 130, there is a narrowing logic after this conversion, not directly deleting the excess pixels. Accordingly, there is a slight deformation"
   ]
  },
  {
   "cell_type": "markdown",
   "metadata": {
    "id": "Cc9Ey1zhyGI5"
   },
   "source": [
    "## Preparing the Data for the model"
   ]
  },
  {
   "cell_type": "code",
   "execution_count": null,
   "metadata": {
    "ExecuteTime": {
     "end_time": "2024-09-19T08:21:27.840174Z",
     "start_time": "2024-09-19T08:21:27.840174Z"
    },
    "execution": {
     "iopub.execute_input": "2024-09-17T20:22:25.671902Z",
     "iopub.status.busy": "2024-09-17T20:22:25.671050Z",
     "iopub.status.idle": "2024-09-17T20:22:25.692822Z",
     "shell.execute_reply": "2024-09-17T20:22:25.691947Z",
     "shell.execute_reply.started": "2024-09-17T20:22:25.671861Z"
    }
   },
   "outputs": [],
   "source": [
    "para_cell_Para = Parasitized + os.listdir(Parasitized)[17]\n",
    "print ('Parasitized index 17 max', imread(para_cell_Para).max())\n",
    "print ('Parasitized index 17 min',  imread(para_cell_Para).min())"
   ]
  },
  {
   "cell_type": "markdown",
   "metadata": {},
   "source": [
    "Above, we see that while we normally expect min=0 and max=255, we have already done a scale operation. Therefore, this is an important point that will definitely not be scaled in the following steps."
   ]
  },
  {
   "cell_type": "markdown",
   "metadata": {},
   "source": [
    "## Train | Test Split "
   ]
  },
  {
   "cell_type": "code",
   "execution_count": null,
   "metadata": {
    "ExecuteTime": {
     "end_time": "2024-09-19T08:21:27.841177Z",
     "start_time": "2024-09-19T08:21:27.841177Z"
    },
    "execution": {
     "iopub.execute_input": "2024-09-17T20:22:30.120273Z",
     "iopub.status.busy": "2024-09-17T20:22:30.119453Z",
     "iopub.status.idle": "2024-09-17T20:22:30.232277Z",
     "shell.execute_reply": "2024-09-17T20:22:30.231274Z",
     "shell.execute_reply.started": "2024-09-17T20:22:30.120235Z"
    }
   },
   "outputs": [],
   "source": [
    "# We create empty lists\n",
    "filepaths = []\n",
    "labels = []\n",
    "\n",
    "# We add files and tags in the data path\n",
    "folds = os.listdir(data_dir)\n",
    "for fold in folds:\n",
    "    foldpath = os.path.join(data_dir, fold)\n",
    "    filelist = os.listdir(foldpath)\n",
    "    for file in filelist:\n",
    "        fpath = os.path.join(foldpath, file)\n",
    "        filepaths.append(fpath)\n",
    "        labels.append(fold)\n",
    "\n",
    "# We create a DataFrame\n",
    "df = pd.DataFrame({\n",
    "    'filepaths': filepaths,\n",
    "    'labels': labels\n",
    "})\n",
    "\n",
    "# We separate training and test set\n",
    "train_df, test_df = train_test_split(df, train_size=0.8, shuffle=True, random_state=123)\n",
    "\n",
    "# We divide the test set into validation and test\n",
    "valid_df, test_df = train_test_split(test_df, train_size=0.6, shuffle=True, random_state=123)\n",
    "\n",
    "print(train_df.head())"
   ]
  },
  {
   "cell_type": "markdown",
   "metadata": {},
   "source": [
    "- In the first step, 80% of the dataset is used as a training set and the remaining 20% is divided into testing.\n",
    "- Then, we divide the test set into validation and test, 60% validation and 40% test.This way, we don't use the entire test set during training"
   ]
  },
  {
   "cell_type": "markdown",
   "metadata": {},
   "source": [
    "# CNN (class weight)"
   ]
  },
  {
   "cell_type": "code",
   "execution_count": null,
   "metadata": {
    "ExecuteTime": {
     "end_time": "2024-09-19T08:21:27.842465Z",
     "start_time": "2024-09-19T08:21:27.842465Z"
    },
    "execution": {
     "iopub.execute_input": "2024-09-17T21:31:50.193679Z",
     "iopub.status.busy": "2024-09-17T21:31:50.193273Z",
     "iopub.status.idle": "2024-09-17T21:31:50.198254Z",
     "shell.execute_reply": "2024-09-17T21:31:50.197263Z",
     "shell.execute_reply.started": "2024-09-17T21:31:50.193642Z"
    }
   },
   "outputs": [],
   "source": [
    "image_shape = (130,130,3)"
   ]
  },
  {
   "cell_type": "code",
   "execution_count": null,
   "metadata": {
    "ExecuteTime": {
     "end_time": "2024-09-19T08:21:27.843532Z",
     "start_time": "2024-09-19T08:21:27.843532Z"
    },
    "execution": {
     "iopub.execute_input": "2024-09-17T21:55:41.863141Z",
     "iopub.status.busy": "2024-09-17T21:55:41.862385Z",
     "iopub.status.idle": "2024-09-17T21:55:42.051685Z",
     "shell.execute_reply": "2024-09-17T21:55:42.050864Z",
     "shell.execute_reply.started": "2024-09-17T21:55:41.863105Z"
    }
   },
   "outputs": [],
   "source": [
    "model = Sequential()\n",
    "\n",
    "model.add(Conv2D(filters=16, kernel_size=(3,3),input_shape=image_shape, activation='relu', padding='same'))\n",
    "model.add(BatchNormalization()) \n",
    "model.add(MaxPool2D(pool_size=(2, 2)))\n",
    "\n",
    "model.add(Conv2D(filters=32, kernel_size=(3,3), activation='relu', padding='same'))\n",
    "model.add(BatchNormalization()) \n",
    "model.add(MaxPool2D(pool_size=(2, 2)))\n",
    "\n",
    "model.add(Conv2D(filters=64, kernel_size=(3,3), activation='relu', padding='same')) \n",
    "model.add(BatchNormalization()) \n",
    "model.add(MaxPool2D(pool_size=(2, 2)))\n",
    "\n",
    "model.add(Conv2D(filters=128, kernel_size=(3,3), activation='relu', padding='same')) \n",
    "model.add(BatchNormalization()) \n",
    "model.add(MaxPool2D(pool_size=(2, 2)))\n",
    "\n",
    "model.add(Flatten())\n",
    "\n",
    "model.add(Dense(64, activation='relu'))\n",
    "model.add(Dropout(0.5))\n",
    "\n",
    "model.add(Dense(1, activation='sigmoid'))\n",
    "\n",
    "model.compile(loss='binary_crossentropy',\n",
    "              optimizer='adam',\n",
    "              metrics=['accuracy'])"
   ]
  },
  {
   "cell_type": "code",
   "execution_count": null,
   "metadata": {
    "ExecuteTime": {
     "end_time": "2024-09-19T08:21:27.844833Z",
     "start_time": "2024-09-19T08:21:27.844833Z"
    },
    "execution": {
     "iopub.execute_input": "2024-09-17T21:55:47.747438Z",
     "iopub.status.busy": "2024-09-17T21:55:47.747045Z",
     "iopub.status.idle": "2024-09-17T21:55:47.777846Z",
     "shell.execute_reply": "2024-09-17T21:55:47.777032Z",
     "shell.execute_reply.started": "2024-09-17T21:55:47.747401Z"
    }
   },
   "outputs": [],
   "source": [
    "model.summary()"
   ]
  },
  {
   "cell_type": "markdown",
   "metadata": {},
   "source": [
    "This way, we have worked with the original data and there is no data augmentation. The model will be trained and validated using only the original images."
   ]
  },
  {
   "cell_type": "code",
   "execution_count": null,
   "metadata": {
    "ExecuteTime": {
     "end_time": "2024-09-19T08:21:27.845403Z",
     "start_time": "2024-09-19T08:21:27.845403Z"
    },
    "execution": {
     "iopub.execute_input": "2024-09-17T21:55:51.979547Z",
     "iopub.status.busy": "2024-09-17T21:55:51.979136Z",
     "iopub.status.idle": "2024-09-17T21:56:27.900683Z",
     "shell.execute_reply": "2024-09-17T21:56:27.899707Z",
     "shell.execute_reply.started": "2024-09-17T21:55:51.979508Z"
    }
   },
   "outputs": [],
   "source": [
    "image_gen = ImageDataGenerator() # rescale=1/255\n",
    "\n",
    "# Generator for train set\n",
    "train_generator = image_gen.flow_from_dataframe(dataframe=train_df,x_col='filepaths',y_col='labels',\n",
    "                                                target_size=(130, 130), class_mode='binary',\n",
    "                                                batch_size=32,shuffle=True)\n",
    "\n",
    "# Generator for validation set\n",
    "valid_generator = image_gen.flow_from_dataframe(dataframe=valid_df,x_col='filepaths',\n",
    "                                                y_col='labels',target_size=(130, 130),\n",
    "                                                class_mode='binary',batch_size=32,shuffle=False)"
   ]
  },
  {
   "cell_type": "code",
   "execution_count": null,
   "metadata": {
    "ExecuteTime": {
     "end_time": "2024-09-19T08:21:27.846408Z",
     "start_time": "2024-09-19T08:21:27.846408Z"
    },
    "execution": {
     "iopub.execute_input": "2024-09-17T21:56:42.103008Z",
     "iopub.status.busy": "2024-09-17T21:56:42.102366Z",
     "iopub.status.idle": "2024-09-17T21:56:42.132348Z",
     "shell.execute_reply": "2024-09-17T21:56:42.131326Z",
     "shell.execute_reply.started": "2024-09-17T21:56:42.102967Z"
    }
   },
   "outputs": [],
   "source": [
    "# convert the tags in train_df (y_train) to numpy array for class_weight calculation\n",
    "y_train = train_df['labels'].values   # 'labels' column contains labels\n",
    "\n",
    "# We calculate class weights\n",
    "class_weights = class_weight.compute_class_weight('balanced',\n",
    "                                                  classes=np.unique(y_train),\n",
    "                                                  y=y_train)\n",
    "\n",
    "# create the class_weights dictionary\n",
    "class_weights = {0: class_weights[0], 1: class_weights[1]}\n",
    "\n",
    "print(\"Class Weights:\", class_weights)"
   ]
  },
  {
   "cell_type": "code",
   "execution_count": null,
   "metadata": {
    "ExecuteTime": {
     "end_time": "2024-09-19T08:21:27.846408Z",
     "start_time": "2024-09-19T08:21:27.846408Z"
    },
    "execution": {
     "iopub.execute_input": "2024-09-17T21:56:47.892196Z",
     "iopub.status.busy": "2024-09-17T21:56:47.891794Z",
     "iopub.status.idle": "2024-09-17T22:05:07.764635Z",
     "shell.execute_reply": "2024-09-17T22:05:07.763675Z",
     "shell.execute_reply.started": "2024-09-17T21:56:47.892140Z"
    }
   },
   "outputs": [],
   "source": [
    "early_stop = EarlyStopping(monitor='val_loss',patience=5)\n",
    "\n",
    "# Modeli eğit\n",
    "history = model.fit(\n",
    "    train_generator,\n",
    "    epochs=20,\n",
    "    validation_data=valid_generator,\n",
    "    class_weight=class_weights,\n",
    "    callbacks=[early_stop]\n",
    ")"
   ]
  },
  {
   "cell_type": "markdown",
   "metadata": {},
   "source": [
    "This code measures the accuracy of the model using the test set. Since the test set is a data set that the model has not seen before, this process is used to measure the generalization ability of the model."
   ]
  },
  {
   "cell_type": "code",
   "execution_count": null,
   "metadata": {
    "ExecuteTime": {
     "end_time": "2024-09-19T08:21:27.847695Z",
     "start_time": "2024-09-19T08:21:27.847695Z"
    },
    "execution": {
     "iopub.execute_input": "2024-09-17T22:06:05.297937Z",
     "iopub.status.busy": "2024-09-17T22:06:05.297547Z",
     "iopub.status.idle": "2024-09-17T22:06:12.887891Z",
     "shell.execute_reply": "2024-09-17T22:06:12.887041Z",
     "shell.execute_reply.started": "2024-09-17T22:06:05.297899Z"
    }
   },
   "outputs": [],
   "source": [
    "# Generator for test set \n",
    "test_generator = ImageDataGenerator().flow_from_dataframe(dataframe=test_df,x_col='filepaths',\n",
    "                                                          y_col='labels',target_size=(130, 130),\n",
    "                                                          class_mode='binary',batch_size=32,\n",
    "                                                          shuffle=False )\n",
    "\n",
    "# Evaluate the performance of the model on the test set\n",
    "test_loss, test_acc = model.evaluate(test_generator)\n",
    "print(f\"Test Loss: {test_loss}, Test Accuracy: {test_acc}\")\n"
   ]
  },
  {
   "cell_type": "markdown",
   "metadata": {},
   "source": [
    "These results show that the model achieved a high accuracy rate on the test data. An accuracy of 96.24% indicates that the model successfully classified the images in the test set."
   ]
  },
  {
   "cell_type": "code",
   "execution_count": null,
   "metadata": {
    "ExecuteTime": {
     "end_time": "2024-09-19T08:21:27.848701Z",
     "start_time": "2024-09-19T08:21:27.848701Z"
    },
    "execution": {
     "iopub.execute_input": "2024-09-17T22:06:16.206696Z",
     "iopub.status.busy": "2024-09-17T22:06:16.206269Z",
     "iopub.status.idle": "2024-09-17T22:06:16.512346Z",
     "shell.execute_reply": "2024-09-17T22:06:16.511388Z",
     "shell.execute_reply.started": "2024-09-17T22:06:16.206659Z"
    }
   },
   "outputs": [],
   "source": [
    "summary = pd.DataFrame(history.history)\n",
    "plt.figure(figsize=(15, 6))\n",
    "plt.plot(summary.loss, label=\"loss\")\n",
    "plt.plot(summary.val_loss, label=\"val_loss\")\n",
    "plt.legend(loc=\"upper right\")\n",
    "plt.ylabel(\"Loss\")\n",
    "plt.xlabel(\"Epoch\")\n",
    "plt.show()"
   ]
  },
  {
   "cell_type": "code",
   "execution_count": null,
   "metadata": {
    "ExecuteTime": {
     "end_time": "2024-09-19T08:21:27.850105Z",
     "start_time": "2024-09-19T08:21:27.850105Z"
    },
    "execution": {
     "iopub.execute_input": "2024-09-17T22:06:19.192804Z",
     "iopub.status.busy": "2024-09-17T22:06:19.192410Z",
     "iopub.status.idle": "2024-09-17T22:06:19.456938Z",
     "shell.execute_reply": "2024-09-17T22:06:19.456011Z",
     "shell.execute_reply.started": "2024-09-17T22:06:19.192766Z"
    }
   },
   "outputs": [],
   "source": [
    "plt.figure(figsize=(10,6))\n",
    "plt.plot(summary.accuracy, label=\"accuracy\")\n",
    "plt.plot(summary.val_accuracy, label=\"val_accuracy\")\n",
    "plt.legend(loc=\"upper left\")\n",
    "plt.ylabel(\"Accuracy\")\n",
    "plt.xlabel(\"Epoch\")\n",
    "plt.show()"
   ]
  },
  {
   "cell_type": "code",
   "execution_count": null,
   "metadata": {
    "ExecuteTime": {
     "end_time": "2024-09-19T08:21:27.850859Z",
     "start_time": "2024-09-19T08:21:27.850859Z"
    },
    "execution": {
     "iopub.execute_input": "2024-09-17T22:06:25.103636Z",
     "iopub.status.busy": "2024-09-17T22:06:25.103221Z",
     "iopub.status.idle": "2024-09-17T22:06:29.318862Z",
     "shell.execute_reply": "2024-09-17T22:06:29.317933Z",
     "shell.execute_reply.started": "2024-09-17T22:06:25.103600Z"
    }
   },
   "outputs": [],
   "source": [
    "pred_probabilities = model.predict(test_generator)\n",
    "predictions = pred_probabilities > 0.5\n",
    "print(classification_report(test_generator.classes,predictions))"
   ]
  },
  {
   "cell_type": "code",
   "execution_count": null,
   "metadata": {
    "ExecuteTime": {
     "end_time": "2024-09-19T08:21:27.850859Z",
     "start_time": "2024-09-19T08:21:27.850859Z"
    },
    "execution": {
     "iopub.execute_input": "2024-09-17T22:06:32.791868Z",
     "iopub.status.busy": "2024-09-17T22:06:32.791117Z",
     "iopub.status.idle": "2024-09-17T22:06:32.801080Z",
     "shell.execute_reply": "2024-09-17T22:06:32.800215Z",
     "shell.execute_reply.started": "2024-09-17T22:06:32.791827Z"
    }
   },
   "outputs": [],
   "source": [
    "confusion_matrix(test_generator.classes,predictions)"
   ]
  },
  {
   "cell_type": "code",
   "execution_count": null,
   "metadata": {
    "ExecuteTime": {
     "end_time": "2024-09-19T08:21:27.853733Z",
     "start_time": "2024-09-19T08:21:27.853733Z"
    },
    "execution": {
     "iopub.execute_input": "2024-09-17T22:06:36.254199Z",
     "iopub.status.busy": "2024-09-17T22:06:36.253823Z",
     "iopub.status.idle": "2024-09-17T22:06:36.344027Z",
     "shell.execute_reply": "2024-09-17T22:06:36.342961Z",
     "shell.execute_reply.started": "2024-09-17T22:06:36.254163Z"
    }
   },
   "outputs": [],
   "source": [
    "from tensorflow.keras.saving import save_model\n",
    "\n",
    "save_model(model, 'malaria_model.keras')"
   ]
  },
  {
   "cell_type": "markdown",
   "metadata": {
    "id": "0NEQcQp7yGI8"
   },
   "source": [
    "# CNN (with data augmentation)"
   ]
  },
  {
   "cell_type": "code",
   "execution_count": null,
   "metadata": {
    "ExecuteTime": {
     "end_time": "2024-09-19T08:21:27.855885Z",
     "start_time": "2024-09-19T08:21:27.855885Z"
    },
    "execution": {
     "iopub.execute_input": "2024-09-16T11:44:11.861913Z",
     "iopub.status.busy": "2024-09-16T11:44:11.861210Z",
     "iopub.status.idle": "2024-09-16T11:44:12.058529Z",
     "shell.execute_reply": "2024-09-16T11:44:12.057788Z",
     "shell.execute_reply.started": "2024-09-16T11:44:11.861873Z"
    }
   },
   "outputs": [],
   "source": [
    "aug_model = Sequential()\n",
    "\n",
    "aug_model.add(Conv2D(filters=32, kernel_size=(3,3),input_shape=image_shape, padding='same', activation='relu',))\n",
    "aug_model.add(BatchNormalization())\n",
    "\n",
    "aug_model.add(Conv2D(filters=64, kernel_size=(3,3), padding='same', activation='relu',))\n",
    "aug_model.add(BatchNormalization())\n",
    "aug_model.add(MaxPooling2D(pool_size=(2, 2)))\n",
    "\n",
    "aug_model.add(Conv2D(filters=128, kernel_size=(3,3), padding='same', activation='relu',))\n",
    "aug_model.add(BatchNormalization())\n",
    "aug_model.add(MaxPooling2D(pool_size=(2, 2)))\n",
    "\n",
    "aug_model.add(Conv2D(filters=128, kernel_size=(3,3), padding='same', activation='relu',))\n",
    "aug_model.add(BatchNormalization())\n",
    "aug_model.add(MaxPooling2D(pool_size=(2, 2)))\n",
    "\n",
    "aug_model.add(Flatten())\n",
    "\n",
    "aug_model.add(Dense(64))\n",
    "aug_model.add(Activation('relu'))\n",
    "\n",
    "aug_model.add(Dropout(0.3))\n",
    "\n",
    "aug_model.add(Dense(1))\n",
    "aug_model.add(Activation('sigmoid'))\n",
    "\n",
    "aug_model.compile(loss='binary_crossentropy',\n",
    "              optimizer='adam',\n",
    "              metrics=['accuracy'])"
   ]
  },
  {
   "cell_type": "code",
   "execution_count": null,
   "metadata": {
    "ExecuteTime": {
     "end_time": "2024-09-19T08:21:27.855885Z",
     "start_time": "2024-09-19T08:21:27.855885Z"
    },
    "execution": {
     "iopub.execute_input": "2024-09-16T11:44:14.935148Z",
     "iopub.status.busy": "2024-09-16T11:44:14.934308Z",
     "iopub.status.idle": "2024-09-16T11:44:14.967386Z",
     "shell.execute_reply": "2024-09-16T11:44:14.966569Z",
     "shell.execute_reply.started": "2024-09-16T11:44:14.935108Z"
    }
   },
   "outputs": [],
   "source": [
    "aug_model.summary()"
   ]
  },
  {
   "cell_type": "markdown",
   "metadata": {},
   "source": [
    "This code describes data augmentation using Keras' ImageDataGenerator class. Data augmentation is a technique used to diversify the training data and increase the generalization ability of the model. Data augmentation generates new data by transforming, flipping, zooming, panning or otherwise manipulating existing images. This prevents the model from overlearning (overfitting) and makes it more robust."
   ]
  },
  {
   "cell_type": "code",
   "execution_count": null,
   "metadata": {
    "ExecuteTime": {
     "end_time": "2024-09-19T08:21:27.864214Z",
     "start_time": "2024-09-19T08:21:27.864214Z"
    },
    "execution": {
     "iopub.execute_input": "2024-09-16T11:44:20.275281Z",
     "iopub.status.busy": "2024-09-16T11:44:20.274909Z",
     "iopub.status.idle": "2024-09-16T11:44:20.279774Z",
     "shell.execute_reply": "2024-09-16T11:44:20.278728Z",
     "shell.execute_reply.started": "2024-09-16T11:44:20.275246Z"
    }
   },
   "outputs": [],
   "source": [
    "target_size=(130, 130)"
   ]
  },
  {
   "cell_type": "code",
   "execution_count": null,
   "metadata": {
    "ExecuteTime": {
     "end_time": "2024-09-19T08:21:27.865716Z",
     "start_time": "2024-09-19T08:21:27.865716Z"
    },
    "execution": {
     "iopub.execute_input": "2024-09-16T11:44:27.389672Z",
     "iopub.status.busy": "2024-09-16T11:44:27.389189Z",
     "iopub.status.idle": "2024-09-16T11:44:55.383908Z",
     "shell.execute_reply": "2024-09-16T11:44:55.382967Z",
     "shell.execute_reply.started": "2024-09-16T11:44:27.389627Z"
    }
   },
   "outputs": [],
   "source": [
    "image_gen = ImageDataGenerator(rotation_range=30, \n",
    "                               width_shift_range=0.15, \n",
    "                               height_shift_range=0.15, \n",
    "                               #rescale=1/255,           ==> data pre-scaled\n",
    "                               shear_range=0.2, \n",
    "                               zoom_range=0.2, \n",
    "                               horizontal_flip=True,\n",
    "                               vertical_flip=True,\n",
    "                               fill_mode='nearest')\n",
    "\n",
    "# Generator for train set\n",
    "train_generator = image_gen.flow_from_dataframe(dataframe=train_df,x_col='filepaths',y_col='labels',\n",
    "                                                target_size=(130, 130), class_mode='binary',\n",
    "                                                batch_size=32,shuffle=True)\n",
    "\n",
    "\n",
    "\n",
    "valid_image_gen = ImageDataGenerator()\n",
    "\n",
    "# Generator for validation set\n",
    "valid_generator = valid_image_gen.flow_from_dataframe(dataframe=valid_df,x_col='filepaths',\n",
    "                                                y_col='labels',target_size=(130, 130),\n",
    "                                                class_mode='binary',batch_size=32,shuffle=False)"
   ]
  },
  {
   "cell_type": "markdown",
   "metadata": {},
   "source": [
    "**flow_from_directory**: Used for data in folder structure, data is automatically labeled according to folders.\n",
    "\n",
    "**flow**: Used for data already in numpy array format, tags and data are provided manually."
   ]
  },
  {
   "cell_type": "code",
   "execution_count": null,
   "metadata": {
    "ExecuteTime": {
     "end_time": "2024-09-19T08:21:27.866724Z",
     "start_time": "2024-09-19T08:21:27.866724Z"
    },
    "execution": {
     "iopub.execute_input": "2024-09-16T11:46:59.344673Z",
     "iopub.status.busy": "2024-09-16T11:46:59.343773Z",
     "iopub.status.idle": "2024-09-16T12:14:35.123696Z",
     "shell.execute_reply": "2024-09-16T12:14:35.122762Z",
     "shell.execute_reply.started": "2024-09-16T11:46:59.344632Z"
    }
   },
   "outputs": [],
   "source": [
    "early_stop = EarlyStopping(monitor='val_loss',patience=5)\n",
    "\n",
    "# Modeli eğit\n",
    "history = aug_model.fit(\n",
    "    train_generator,\n",
    "    epochs=20,\n",
    "    validation_data=valid_generator,\n",
    "    class_weight=class_weights,\n",
    "    callbacks=[early_stop]\n",
    ")"
   ]
  },
  {
   "cell_type": "code",
   "execution_count": null,
   "metadata": {
    "ExecuteTime": {
     "end_time": "2024-09-19T08:21:27.867724Z",
     "start_time": "2024-09-19T08:21:27.867724Z"
    },
    "execution": {
     "iopub.execute_input": "2024-09-16T12:17:03.261790Z",
     "iopub.status.busy": "2024-09-16T12:17:03.261155Z",
     "iopub.status.idle": "2024-09-16T12:17:15.544235Z",
     "shell.execute_reply": "2024-09-16T12:17:15.543340Z",
     "shell.execute_reply.started": "2024-09-16T12:17:03.261750Z"
    }
   },
   "outputs": [],
   "source": [
    "# Generator for test set \n",
    "test_generator = ImageDataGenerator().flow_from_dataframe(dataframe=test_df,x_col='filepaths',\n",
    "                                                          y_col='labels',target_size=(130, 130),\n",
    "                                                          class_mode='binary',batch_size=32,\n",
    "                                                          shuffle=False )\n",
    "\n",
    "# Evaluate the performance of the model on the test set\n",
    "test_loss, test_acc = aug_model.evaluate(test_generator)\n",
    "print(f\"Test Loss: {test_loss}, Test Accuracy: {test_acc}\")"
   ]
  },
  {
   "cell_type": "code",
   "execution_count": null,
   "metadata": {
    "ExecuteTime": {
     "end_time": "2024-09-19T08:21:27.868724Z",
     "start_time": "2024-09-19T08:21:27.868724Z"
    },
    "execution": {
     "iopub.execute_input": "2024-09-16T12:16:29.889681Z",
     "iopub.status.busy": "2024-09-16T12:16:29.889318Z",
     "iopub.status.idle": "2024-09-16T12:16:30.176054Z",
     "shell.execute_reply": "2024-09-16T12:16:30.175093Z",
     "shell.execute_reply.started": "2024-09-16T12:16:29.889647Z"
    }
   },
   "outputs": [],
   "source": [
    "summary = pd.DataFrame(history.history)\n",
    "plt.figure(figsize=(15, 6))\n",
    "plt.plot(summary.loss, label=\"loss\")\n",
    "plt.plot(summary.val_loss, label=\"val_loss\")\n",
    "plt.legend(loc=\"upper right\")\n",
    "plt.ylabel(\"Loss\")\n",
    "plt.xlabel(\"Epoch\")\n",
    "plt.show()"
   ]
  },
  {
   "cell_type": "code",
   "execution_count": null,
   "metadata": {
    "ExecuteTime": {
     "end_time": "2024-09-19T08:21:27.870177Z",
     "start_time": "2024-09-19T08:21:27.870177Z"
    },
    "execution": {
     "iopub.execute_input": "2024-09-16T12:16:33.324157Z",
     "iopub.status.busy": "2024-09-16T12:16:33.323433Z",
     "iopub.status.idle": "2024-09-16T12:16:33.589369Z",
     "shell.execute_reply": "2024-09-16T12:16:33.588485Z",
     "shell.execute_reply.started": "2024-09-16T12:16:33.324117Z"
    },
    "id": "jD4KIrKnyGJB",
    "outputId": "43e5a572-e8e9-422c-9f8e-3f86bb6dc979"
   },
   "outputs": [],
   "source": [
    "plt.figure(figsize=(10,6))\n",
    "plt.plot(summary.accuracy, label=\"accuracy\")\n",
    "plt.plot(summary.val_accuracy, label=\"val_accuracy\")\n",
    "plt.legend(loc=\"upper left\")\n",
    "plt.ylabel(\"Accuracy\")\n",
    "plt.xlabel(\"Epoch\")\n",
    "plt.show()"
   ]
  },
  {
   "cell_type": "code",
   "execution_count": null,
   "metadata": {
    "ExecuteTime": {
     "end_time": "2024-09-19T08:21:27.871357Z",
     "start_time": "2024-09-19T08:21:27.871357Z"
    },
    "execution": {
     "iopub.execute_input": "2024-09-16T12:16:38.901131Z",
     "iopub.status.busy": "2024-09-16T12:16:38.900422Z",
     "iopub.status.idle": "2024-09-16T12:16:38.906825Z",
     "shell.execute_reply": "2024-09-16T12:16:38.905906Z",
     "shell.execute_reply.started": "2024-09-16T12:16:38.901091Z"
    },
    "id": "GTPA47R7yGJB",
    "outputId": "164c2da2-7f9f-4989-92a3-23dea02fe67e"
   },
   "outputs": [],
   "source": [
    "model.metrics_names"
   ]
  },
  {
   "cell_type": "markdown",
   "metadata": {},
   "source": [
    "# Transfer Learning Models"
   ]
  },
  {
   "cell_type": "markdown",
   "metadata": {},
   "source": [
    "In this type of medical image classification problem, transfer learning (transferring pre-trained models) can be very effective. When working with smaller and well-labeled data sets such as medical image analysis, transfer learning models can give very successful results.In particular, CNN-based transfer learning models are often preferred for data sets containing specific structures such as cell images."
   ]
  },
  {
   "cell_type": "code",
   "execution_count": null,
   "metadata": {
    "ExecuteTime": {
     "end_time": "2024-09-19T08:21:27.871357Z",
     "start_time": "2024-09-19T08:21:27.871357Z"
    },
    "execution": {
     "iopub.execute_input": "2024-09-17T20:50:08.123830Z",
     "iopub.status.busy": "2024-09-17T20:50:08.123460Z",
     "iopub.status.idle": "2024-09-17T20:50:08.128090Z",
     "shell.execute_reply": "2024-09-17T20:50:08.127133Z",
     "shell.execute_reply.started": "2024-09-17T20:50:08.123796Z"
    }
   },
   "outputs": [],
   "source": [
    "image_shape = (224, 224,3)"
   ]
  },
  {
   "cell_type": "code",
   "execution_count": null,
   "metadata": {
    "ExecuteTime": {
     "end_time": "2024-09-19T08:21:27.875179Z",
     "start_time": "2024-09-19T08:21:27.875179Z"
    },
    "execution": {
     "iopub.execute_input": "2024-09-17T20:50:09.578603Z",
     "iopub.status.busy": "2024-09-17T20:50:09.577877Z",
     "iopub.status.idle": "2024-09-17T20:50:49.568646Z",
     "shell.execute_reply": "2024-09-17T20:50:49.567871Z",
     "shell.execute_reply.started": "2024-09-17T20:50:09.578560Z"
    }
   },
   "outputs": [],
   "source": [
    "image_gen = ImageDataGenerator(rotation_range=30, \n",
    "                               width_shift_range=0.15, \n",
    "                               height_shift_range=0.15, \n",
    "                               #rescale=1/255,           ==> data pre-scaled\n",
    "                               shear_range=0.2, \n",
    "                               zoom_range=0.2, \n",
    "                               horizontal_flip=True,\n",
    "                               vertical_flip=True,\n",
    "                               fill_mode='nearest')\n",
    "\n",
    "# Generator for train set\n",
    "train_generator = image_gen.flow_from_dataframe(dataframe=train_df,\n",
    "                                                x_col='filepaths',\n",
    "                                                y_col='labels',\n",
    "                                                target_size=(224, 224),\n",
    "                                                class_mode='binary',\n",
    "                                                batch_size=32,\n",
    "                                                shuffle=True)\n",
    "\n",
    "# Generator for validation set\n",
    "test_generator = ImageDataGenerator().flow_from_dataframe(dataframe=test_df,\n",
    "                                                          x_col='filepaths',\n",
    "                                                          y_col='labels',\n",
    "                                                          target_size=(224, 224),\n",
    "                                                          class_mode='binary',\n",
    "                                                          batch_size=32,\n",
    "                                                          shuffle=False)"
   ]
  },
  {
   "cell_type": "markdown",
   "metadata": {},
   "source": [
    "## VGG16_model"
   ]
  },
  {
   "cell_type": "code",
   "execution_count": null,
   "metadata": {
    "ExecuteTime": {
     "end_time": "2024-09-19T08:21:27.875179Z",
     "start_time": "2024-09-19T08:21:27.875179Z"
    },
    "execution": {
     "iopub.execute_input": "2024-09-17T20:54:48.436540Z",
     "iopub.status.busy": "2024-09-17T20:54:48.436135Z",
     "iopub.status.idle": "2024-09-17T20:54:50.231898Z",
     "shell.execute_reply": "2024-09-17T20:54:50.231036Z",
     "shell.execute_reply.started": "2024-09-17T20:54:48.436503Z"
    }
   },
   "outputs": [],
   "source": [
    "VGG16_model = Sequential()\n",
    "\n",
    "pretrained_model= tf.keras.applications.VGG16(include_top=False,\n",
    "                   input_shape=image_shape,\n",
    "                   pooling='avg',\n",
    "                   weights= \"imagenet\")\n",
    "for layer in pretrained_model.layers:\n",
    "        layer.trainable=False\n",
    "\n",
    "VGG16_model.add(pretrained_model)\n",
    "VGG16_model.add(Flatten())\n",
    "VGG16_model.add(Dense(64, activation='relu'))\n",
    "VGG16_model.add(Dense(1, activation='sigmoid'))\n",
    "\n",
    "VGG16_model.compile(loss='binary_crossentropy',\n",
    "              optimizer='adam',\n",
    "              metrics=['accuracy'])"
   ]
  },
  {
   "cell_type": "code",
   "execution_count": null,
   "metadata": {
    "ExecuteTime": {
     "end_time": "2024-09-19T08:21:27.879575Z",
     "start_time": "2024-09-19T08:21:27.879575Z"
    },
    "execution": {
     "iopub.execute_input": "2024-09-17T20:54:53.297038Z",
     "iopub.status.busy": "2024-09-17T20:54:53.296681Z",
     "iopub.status.idle": "2024-09-17T20:54:53.318923Z",
     "shell.execute_reply": "2024-09-17T20:54:53.318089Z",
     "shell.execute_reply.started": "2024-09-17T20:54:53.297000Z"
    }
   },
   "outputs": [],
   "source": [
    "VGG16_model.summary()"
   ]
  },
  {
   "cell_type": "code",
   "execution_count": null,
   "metadata": {
    "ExecuteTime": {
     "end_time": "2024-09-19T08:21:27.880595Z",
     "start_time": "2024-09-19T08:21:27.880595Z"
    },
    "execution": {
     "iopub.execute_input": "2024-09-17T20:55:07.139040Z",
     "iopub.status.busy": "2024-09-17T20:55:07.137916Z",
     "iopub.status.idle": "2024-09-17T21:22:37.967666Z",
     "shell.execute_reply": "2024-09-17T21:22:37.966822Z",
     "shell.execute_reply.started": "2024-09-17T20:55:07.138986Z"
    }
   },
   "outputs": [],
   "source": [
    "early_stop = EarlyStopping(monitor='val_loss',patience=2)\n",
    "\n",
    "history = VGG16_model.fit(train_generator,epochs=5,\n",
    "                    validation_data=test_generator,\n",
    "                    callbacks=[early_stop])"
   ]
  },
  {
   "cell_type": "code",
   "execution_count": null,
   "metadata": {
    "ExecuteTime": {
     "end_time": "2024-09-19T08:21:27.881573Z",
     "start_time": "2024-09-19T08:21:27.881573Z"
    },
    "execution": {
     "iopub.execute_input": "2024-09-17T21:23:13.626054Z",
     "iopub.status.busy": "2024-09-17T21:23:13.625675Z",
     "iopub.status.idle": "2024-09-17T21:23:22.361913Z",
     "shell.execute_reply": "2024-09-17T21:23:22.361004Z",
     "shell.execute_reply.started": "2024-09-17T21:23:13.626019Z"
    }
   },
   "outputs": [],
   "source": [
    "# Generator for test set \n",
    "test_generator = ImageDataGenerator().flow_from_dataframe(dataframe=test_df,x_col='filepaths',\n",
    "                                                          y_col='labels',target_size=(224, 224),\n",
    "                                                          class_mode='binary',batch_size=32,\n",
    "                                                          shuffle=False )\n",
    "\n",
    "# Evaluate the performance of the model on the test set\n",
    "test_loss, test_acc = VGG16_model.evaluate(test_generator)\n",
    "print(f\"Test Loss: {test_loss}, Test Accuracy: {test_acc}\")"
   ]
  },
  {
   "cell_type": "code",
   "execution_count": null,
   "metadata": {
    "ExecuteTime": {
     "end_time": "2024-09-19T08:21:27.882594Z",
     "start_time": "2024-09-19T08:21:27.882594Z"
    },
    "execution": {
     "iopub.execute_input": "2024-09-16T13:07:58.758781Z",
     "iopub.status.busy": "2024-09-16T13:07:58.758369Z",
     "iopub.status.idle": "2024-09-16T13:07:59.033005Z",
     "shell.execute_reply": "2024-09-16T13:07:59.032025Z",
     "shell.execute_reply.started": "2024-09-16T13:07:58.758734Z"
    }
   },
   "outputs": [],
   "source": [
    "summary = pd.DataFrame(history.history)\n",
    "plt.figure(figsize=(15, 6))\n",
    "plt.plot(summary.loss, label=\"loss\")\n",
    "plt.plot(summary.val_loss, label=\"val_loss\")\n",
    "plt.legend(loc=\"upper right\")\n",
    "plt.ylabel(\"Loss\")\n",
    "plt.xlabel(\"Epoch\")\n",
    "plt.show()"
   ]
  },
  {
   "cell_type": "code",
   "execution_count": null,
   "metadata": {
    "ExecuteTime": {
     "end_time": "2024-09-19T08:21:27.883591Z",
     "start_time": "2024-09-19T08:21:27.883591Z"
    },
    "execution": {
     "iopub.execute_input": "2024-09-16T13:08:04.382257Z",
     "iopub.status.busy": "2024-09-16T13:08:04.381746Z",
     "iopub.status.idle": "2024-09-16T13:08:04.679475Z",
     "shell.execute_reply": "2024-09-16T13:08:04.678531Z",
     "shell.execute_reply.started": "2024-09-16T13:08:04.382196Z"
    }
   },
   "outputs": [],
   "source": [
    "plt.figure(figsize=(10,6))\n",
    "plt.plot(summary.accuracy, label=\"accuracy\")\n",
    "plt.plot(summary.val_accuracy, label=\"val_accuracy\")\n",
    "plt.legend(loc=\"upper left\")\n",
    "plt.ylabel(\"Accuracy\")\n",
    "plt.xlabel(\"Epoch\")\n",
    "plt.show()"
   ]
  },
  {
   "cell_type": "markdown",
   "metadata": {},
   "source": [
    "## EfficientNetB3"
   ]
  },
  {
   "cell_type": "code",
   "execution_count": null,
   "metadata": {
    "ExecuteTime": {
     "end_time": "2024-09-19T08:21:27.883591Z",
     "start_time": "2024-09-19T08:21:27.883591Z"
    },
    "execution": {
     "iopub.execute_input": "2024-09-16T14:08:21.004342Z",
     "iopub.status.busy": "2024-09-16T14:08:21.003936Z",
     "iopub.status.idle": "2024-09-16T14:08:23.641115Z",
     "shell.execute_reply": "2024-09-16T14:08:23.640301Z",
     "shell.execute_reply.started": "2024-09-16T14:08:21.004303Z"
    }
   },
   "outputs": [],
   "source": [
    "EfficientNetB3_model = Sequential()\n",
    "\n",
    "pretrained_model= tf.keras.applications.efficientnet.EfficientNetB3(include_top=False,\n",
    "                   input_shape=image_shape,\n",
    "                   pooling='avg',\n",
    "                   weights= \"imagenet\")\n",
    "for layer in pretrained_model.layers:\n",
    "        layer.trainable=False\n",
    "\n",
    "EfficientNetB3_model.add(pretrained_model)\n",
    "EfficientNetB3_model.add(Flatten())\n",
    "EfficientNetB3_model.add(Dense(64, activation='relu'))\n",
    "\n",
    "EfficientNetB3_model.add(Dense(1, activation='sigmoid'))\n",
    "\n",
    "EfficientNetB3_model.compile(loss='binary_crossentropy',\n",
    "              optimizer='adam',\n",
    "              metrics=['accuracy'])"
   ]
  },
  {
   "cell_type": "code",
   "execution_count": null,
   "metadata": {
    "ExecuteTime": {
     "end_time": "2024-09-19T08:21:27.885805Z",
     "start_time": "2024-09-19T08:21:27.885805Z"
    },
    "execution": {
     "iopub.execute_input": "2024-09-16T14:38:04.502680Z",
     "iopub.status.busy": "2024-09-16T14:38:04.502015Z",
     "iopub.status.idle": "2024-09-16T14:38:04.539431Z",
     "shell.execute_reply": "2024-09-16T14:38:04.538553Z",
     "shell.execute_reply.started": "2024-09-16T14:38:04.502639Z"
    }
   },
   "outputs": [],
   "source": [
    "EfficientNetB3_model.summary()"
   ]
  },
  {
   "cell_type": "code",
   "execution_count": null,
   "metadata": {
    "ExecuteTime": {
     "end_time": "2024-09-19T08:21:27.886819Z",
     "start_time": "2024-09-19T08:21:27.886819Z"
    },
    "execution": {
     "iopub.execute_input": "2024-09-16T14:08:44.403642Z",
     "iopub.status.busy": "2024-09-16T14:08:44.402905Z",
     "iopub.status.idle": "2024-09-16T14:33:57.041478Z",
     "shell.execute_reply": "2024-09-16T14:33:57.040494Z",
     "shell.execute_reply.started": "2024-09-16T14:08:44.403605Z"
    }
   },
   "outputs": [],
   "source": [
    "lr_scheduler = tf.keras.callbacks.ReduceLROnPlateau(\n",
    "    monitor='val_loss', factor=0.5, patience=2, min_lr=0.00001)\n",
    "\n",
    "early_stop = EarlyStopping(monitor='val_loss',patience=2)\n",
    "\n",
    "history = EfficientNetB3_model.fit(train_generator,epochs=5,\n",
    "                    validation_data=test_generator,\n",
    "                    callbacks=[early_stop, lr_scheduler])"
   ]
  },
  {
   "cell_type": "code",
   "execution_count": null,
   "metadata": {
    "ExecuteTime": {
     "end_time": "2024-09-19T08:21:27.887826Z",
     "start_time": "2024-09-19T08:21:27.887826Z"
    },
    "execution": {
     "iopub.execute_input": "2024-09-16T14:35:30.365588Z",
     "iopub.status.busy": "2024-09-16T14:35:30.364624Z",
     "iopub.status.idle": "2024-09-16T14:35:38.714349Z",
     "shell.execute_reply": "2024-09-16T14:35:38.713534Z",
     "shell.execute_reply.started": "2024-09-16T14:35:30.365545Z"
    }
   },
   "outputs": [],
   "source": [
    "# Generator for test set \n",
    "test_generator = ImageDataGenerator().flow_from_dataframe(dataframe=test_df,x_col='filepaths',\n",
    "                                                          y_col='labels',target_size=(224, 224),\n",
    "                                                          class_mode='binary',batch_size=32,\n",
    "                                                          shuffle=False )\n",
    "\n",
    "# Evaluate the performance of the model on the test set\n",
    "test_loss, test_acc = EfficientNetB3_model.evaluate(test_generator)\n",
    "print(f\"Test Loss: {test_loss}, Test Accuracy: {test_acc}\")"
   ]
  },
  {
   "cell_type": "markdown",
   "metadata": {},
   "source": [
    "## ResNet50"
   ]
  },
  {
   "cell_type": "code",
   "execution_count": null,
   "metadata": {
    "ExecuteTime": {
     "end_time": "2024-09-19T08:21:27.889834Z",
     "start_time": "2024-09-19T08:21:27.889834Z"
    },
    "execution": {
     "iopub.execute_input": "2024-09-16T14:37:42.544555Z",
     "iopub.status.busy": "2024-09-16T14:37:42.544172Z",
     "iopub.status.idle": "2024-09-16T14:37:45.120130Z",
     "shell.execute_reply": "2024-09-16T14:37:45.119350Z",
     "shell.execute_reply.started": "2024-09-16T14:37:42.544518Z"
    }
   },
   "outputs": [],
   "source": [
    "ResNet50_model = Sequential()\n",
    "\n",
    "pretrained_model= tf.keras.applications.ResNet50(include_top=False,\n",
    "                   input_shape=image_shape,\n",
    "                   pooling='avg',\n",
    "                   weights= \"imagenet\")\n",
    "for layer in pretrained_model.layers:\n",
    "        layer.trainable=False\n",
    "\n",
    "ResNet50_model.add(pretrained_model)\n",
    "ResNet50_model.add(Flatten())\n",
    "ResNet50_model.add(Dense(64, activation='relu'))\n",
    "ResNet50_model.add(Dropout(0.3))\n",
    "\n",
    "ResNet50_model.add(Dense(1, activation='sigmoid'))\n",
    "\n",
    "ResNet50_model.compile(loss='binary_crossentropy',\n",
    "              optimizer='adam',\n",
    "              metrics=['accuracy'])"
   ]
  },
  {
   "cell_type": "code",
   "execution_count": null,
   "metadata": {
    "ExecuteTime": {
     "end_time": "2024-09-19T08:21:27.891829Z",
     "start_time": "2024-09-19T08:21:27.891829Z"
    },
    "execution": {
     "iopub.execute_input": "2024-09-16T14:38:16.647069Z",
     "iopub.status.busy": "2024-09-16T14:38:16.646665Z",
     "iopub.status.idle": "2024-09-16T14:38:16.674870Z",
     "shell.execute_reply": "2024-09-16T14:38:16.673840Z",
     "shell.execute_reply.started": "2024-09-16T14:38:16.647030Z"
    }
   },
   "outputs": [],
   "source": [
    "ResNet50_model.summary()"
   ]
  },
  {
   "cell_type": "code",
   "execution_count": null,
   "metadata": {
    "ExecuteTime": {
     "end_time": "2024-09-19T08:21:27.893825Z",
     "start_time": "2024-09-19T08:21:27.892832Z"
    },
    "execution": {
     "iopub.execute_input": "2024-09-16T14:38:40.244817Z",
     "iopub.status.busy": "2024-09-16T14:38:40.244433Z",
     "iopub.status.idle": "2024-09-16T15:01:11.892227Z",
     "shell.execute_reply": "2024-09-16T15:01:11.891383Z",
     "shell.execute_reply.started": "2024-09-16T14:38:40.244779Z"
    }
   },
   "outputs": [],
   "source": [
    "lr_scheduler = tf.keras.callbacks.ReduceLROnPlateau(\n",
    "    monitor='val_loss', factor=0.5, patience=2, min_lr=0.00001)\n",
    "\n",
    "early_stop = EarlyStopping(monitor='val_loss',patience=2)\n",
    "\n",
    "history = ResNet50_model.fit(train_generator,epochs=5,\n",
    "                    validation_data=test_generator,\n",
    "                    callbacks=[early_stop, lr_scheduler])"
   ]
  },
  {
   "cell_type": "code",
   "execution_count": null,
   "metadata": {
    "ExecuteTime": {
     "end_time": "2024-09-19T08:21:27.895124Z",
     "start_time": "2024-09-19T08:21:27.895124Z"
    },
    "execution": {
     "iopub.execute_input": "2024-09-16T15:06:59.796521Z",
     "iopub.status.busy": "2024-09-16T15:06:59.796124Z",
     "iopub.status.idle": "2024-09-16T15:07:08.431414Z",
     "shell.execute_reply": "2024-09-16T15:07:08.430413Z",
     "shell.execute_reply.started": "2024-09-16T15:06:59.796483Z"
    }
   },
   "outputs": [],
   "source": [
    "# Generator for test set \n",
    "test_generator = ImageDataGenerator().flow_from_dataframe(dataframe=test_df,x_col='filepaths',\n",
    "                                                          y_col='labels',target_size=(224, 224),\n",
    "                                                          class_mode='binary',batch_size=32,\n",
    "                                                          shuffle=False )\n",
    "\n",
    "# Evaluate the performance of the model on the test set\n",
    "test_loss, test_acc = ResNet50_model.evaluate(test_generator)\n",
    "print(f\"Test Loss: {test_loss}, Test Accuracy: {test_acc}\")"
   ]
  },
  {
   "cell_type": "markdown",
   "metadata": {},
   "source": [
    "# Compare the Model Performances"
   ]
  },
  {
   "cell_type": "code",
   "execution_count": null,
   "metadata": {
    "ExecuteTime": {
     "end_time": "2024-09-19T08:21:27.895219Z",
     "start_time": "2024-09-19T08:21:27.895219Z"
    },
    "execution": {
     "iopub.execute_input": "2024-09-17T21:47:40.152580Z",
     "iopub.status.busy": "2024-09-17T21:47:40.151871Z",
     "iopub.status.idle": "2024-09-17T21:47:40.157846Z",
     "shell.execute_reply": "2024-09-17T21:47:40.156916Z",
     "shell.execute_reply.started": "2024-09-17T21:47:40.152540Z"
    }
   },
   "outputs": [],
   "source": [
    "test_results = [\n",
    "    {'Test': 'Manuel CNN', 'Accuracy Score': 0.96, 'Val_Accuracy': 0.96},\n",
    "    {'Test': 'Manuel CNN-Data Augmentation', 'Accuracy Score': 0.95, 'Val_Accuracy': 0.95},\n",
    "    {'Test': 'VGG16', 'Accuracy Score': 0.95, 'Val_Accuracy': 0.95},\n",
    "    {'Test': 'EfficientNetB3', 'Accuracy Score': 0.95, 'Val_Accuracy': 0.95},\n",
    "    {'Test': 'ResNet50', 'Accuracy Score': 0.93, 'Val_Accuracy': 0.93}\n",
    "     ]"
   ]
  },
  {
   "cell_type": "code",
   "execution_count": null,
   "metadata": {
    "ExecuteTime": {
     "end_time": "2024-09-19T08:21:27.896233Z",
     "start_time": "2024-09-19T08:21:27.896233Z"
    },
    "execution": {
     "iopub.execute_input": "2024-09-17T21:47:42.987433Z",
     "iopub.status.busy": "2024-09-17T21:47:42.986695Z",
     "iopub.status.idle": "2024-09-17T21:47:42.998079Z",
     "shell.execute_reply": "2024-09-17T21:47:42.996955Z",
     "shell.execute_reply.started": "2024-09-17T21:47:42.987394Z"
    }
   },
   "outputs": [],
   "source": [
    "# Transform to DataFrame \n",
    "results_df = pd.DataFrame(test_results)\n",
    "\n",
    "# Sort by f1-score and Misclassification together; \n",
    "sorted_results = results_df.sort_values(by=['Accuracy Score', 'Val_Accuracy'], ascending=[False, False])\n",
    "\n",
    "# Let's show the results by resetting the indexes\n",
    "sorted_results_reset = sorted_results.reset_index(drop=True)\n",
    "\n",
    "# Show the results;   \n",
    "print(sorted_results_reset) "
   ]
  },
  {
   "cell_type": "markdown",
   "metadata": {
    "id": "oQB-AVGRyGJF"
   },
   "source": [
    "# Predicting on an Image"
   ]
  },
  {
   "cell_type": "code",
   "execution_count": null,
   "metadata": {
    "ExecuteTime": {
     "end_time": "2024-09-19T08:21:27.898241Z",
     "start_time": "2024-09-19T08:21:27.898241Z"
    },
    "execution": {
     "iopub.execute_input": "2024-09-17T22:07:23.293655Z",
     "iopub.status.busy": "2024-09-17T22:07:23.293273Z",
     "iopub.status.idle": "2024-09-17T22:07:23.613572Z",
     "shell.execute_reply": "2024-09-17T22:07:23.612538Z",
     "shell.execute_reply.started": "2024-09-17T22:07:23.293621Z"
    }
   },
   "outputs": [],
   "source": [
    "from tensorflow.keras.models import load_model\n",
    "# Model load\n",
    "model = tf.keras.models.load_model('malaria_model.keras')"
   ]
  },
  {
   "cell_type": "code",
   "execution_count": null,
   "metadata": {
    "ExecuteTime": {
     "end_time": "2024-09-19T08:21:27.899386Z",
     "start_time": "2024-09-19T08:21:27.899386Z"
    },
    "execution": {
     "iopub.execute_input": "2024-09-17T22:12:25.119516Z",
     "iopub.status.busy": "2024-09-17T22:12:25.118836Z",
     "iopub.status.idle": "2024-09-17T22:12:28.847141Z",
     "shell.execute_reply": "2024-09-17T22:12:28.846232Z",
     "shell.execute_reply.started": "2024-09-17T22:12:25.119473Z"
    }
   },
   "outputs": [],
   "source": [
    "prediction = model.predict(test_generator)\n",
    "\n",
    "class_labels = ['Uninfected', 'Parasitized'] \n",
    "\n",
    "predicted_classes = [class_labels[np.argmax(prediction[i])] for i in range(len(prediction))]"
   ]
  },
  {
   "cell_type": "code",
   "execution_count": null,
   "metadata": {
    "ExecuteTime": {
     "end_time": "2024-09-19T08:21:27.900728Z",
     "start_time": "2024-09-19T08:21:27.900728Z"
    },
    "execution": {
     "iopub.execute_input": "2024-09-17T22:12:32.002101Z",
     "iopub.status.busy": "2024-09-17T22:12:32.001709Z",
     "iopub.status.idle": "2024-09-17T22:12:32.323909Z",
     "shell.execute_reply": "2024-09-17T22:12:32.322923Z",
     "shell.execute_reply.started": "2024-09-17T22:12:32.002065Z"
    }
   },
   "outputs": [],
   "source": [
    "test_images, test_labels = test_generator[8]\n",
    "plt.imshow(test_images[6] / 255.0)  \n",
    "plt.show()\n",
    "print(predicted_classes[6])\n"
   ]
  },
  {
   "cell_type": "markdown",
   "metadata": {},
   "source": [
    "# <div style=\"padding:15px;color:white;margin:0;font-size:100%;font-family:Verdana;text-align:center;display:fill;border-radius:15px;background-color: #FF0000 ;letter-spacing:1px;overflow:hidden\"><b> THANK YOU</b></div>\n",
    "\n",
    "<br>\n",
    "<div style=\"text-align: center;\">\n",
    "  <b>If you want to be the first to be informed about new projects, please do not forget to follow us - by Fatma Nur AZMAN</b><br>\n",
    "  <a href=\"https://fatmanurazman.vercel.app/\">Fatmanurazman.com</a> | \n",
    "  <a href=\"https://www.linkedin.com/in/fatma-nur-azman/\">Linkedin</a> | \n",
    "  <a href=\"https://github.com/Fatma-Nur-Azman\">Github</a> | \n",
    "  <a href=\"https://www.kaggle.com/fnurazman\">Kaggle</a> | \n",
    "  <a href=\"https://public.tableau.com/app/profile/fatma.nur.azman/vizzes\">Tableau</a>"
   ]
  }
 ],
 "metadata": {
  "colab": {
   "name": "DL-S7 (CNN Image Classification-Malaria)-03 Nov 2021.ipynb",
   "provenance": []
  },
  "hide_input": false,
  "kaggle": {
   "accelerator": "none",
   "dataSources": [
    {
     "datasetId": 87153,
     "sourceId": 200743,
     "sourceType": "datasetVersion"
    }
   ],
   "dockerImageVersionId": 30762,
   "isGpuEnabled": false,
   "isInternetEnabled": true,
   "language": "python",
   "sourceType": "notebook"
  },
  "kernelspec": {
   "display_name": "Python 3 (ipykernel)",
   "language": "python",
   "name": "python3"
  },
  "language_info": {
   "codemirror_mode": {
    "name": "ipython",
    "version": 3
   },
   "file_extension": ".py",
   "mimetype": "text/x-python",
   "name": "python",
   "nbconvert_exporter": "python",
   "pygments_lexer": "ipython3",
   "version": "3.11.7"
  },
  "toc": {
   "base_numbering": 1,
   "nav_menu": {},
   "number_sections": true,
   "sideBar": true,
   "skip_h1_title": false,
   "title_cell": "Table of Contents",
   "title_sidebar": "Contents",
   "toc_cell": false,
   "toc_position": {},
   "toc_section_display": true,
   "toc_window_display": true
  },
  "varInspector": {
   "cols": {
    "lenName": 16,
    "lenType": 16,
    "lenVar": 40
   },
   "kernels_config": {
    "python": {
     "delete_cmd_postfix": "",
     "delete_cmd_prefix": "del ",
     "library": "var_list.py",
     "varRefreshCmd": "print(var_dic_list())"
    },
    "r": {
     "delete_cmd_postfix": ") ",
     "delete_cmd_prefix": "rm(",
     "library": "var_list.r",
     "varRefreshCmd": "cat(var_dic_list()) "
    }
   },
   "types_to_exclude": [
    "module",
    "function",
    "builtin_function_or_method",
    "instance",
    "_Feature"
   ],
   "window_display": false
  }
 },
 "nbformat": 4,
 "nbformat_minor": 4
}
